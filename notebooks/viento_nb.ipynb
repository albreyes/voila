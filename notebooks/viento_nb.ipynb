{
 "cells": [
  {
   "cell_type": "markdown",
   "id": "b96c2364-9697-498c-b056-b9e0ede27bea",
   "metadata": {},
   "source": [
    "# <center>Sistema de pronóstico de generación eólica</center> \n",
    "En este notebook ponemos un ejemplo de dashboard para Eólica Mesa la Paz - AES<br>\n",
    "Autor: Alberto Reyes Ballesteros (INEEL)\n",
    "Copyright: 2023"
   ]
  },
  {
   "cell_type": "code",
   "execution_count": 1,
   "id": "f0d8cffd-6d6f-401c-bfd0-472f7a6828cf",
   "metadata": {},
   "outputs": [],
   "source": [
    "# This is a sample Python script.\n",
    "\n",
    "# Press ⌃R to execute it or replace it with your code.\n",
    "# Press Double ⇧ to search everywhere for classes, files, tool windows, actions, and settings.\n",
    "from operaciones import *\n",
    "\n",
    "#op.ejemplo()\n",
    "\n",
    "# Parametros generales\n",
    "data_path = '/Users/pibar/Library/CloudStorage/GoogleDrive-albertoreyesballesteros@gmail.com/Mi unidad/INEEL/AES'\n",
    "# fileHr = '/datos/VelVientoSept2020-Sept2022_hr.csv'\n",
    "fileHr = '/datos/datos-20-21-prom-windowgrapher-hr.csv'\n",
    "# fileDaily = '/datos/VelVientoSept2020-Sept2022_diario.csv'\n",
    "# fileDaily = '/datos/viento20-22-diarios-validados.csv'\n",
    "fileDaily = '/datos/datos-20-21-prom-windowgrapher-diarios.csv'"
   ]
  },
  {
   "cell_type": "code",
   "execution_count": 2,
   "id": "86bcc0c2-2968-43a9-85f0-d12b41d65f5d",
   "metadata": {},
   "outputs": [],
   "source": [
    "modelFilename1 = '/modelos/modelStructure.png'\n",
    "etiquetaEjeY = 'Velocidad de viento m/s'\n",
    "timestep = 1 # 0-diezminutal 1-horario 2-diario\n",
    "n_features = 1\n",
    "num_test = .2  # aquí se está especificando 20% para test\n",
    "num = 1 # no de casos de prediccion"
   ]
  },
  {
   "cell_type": "code",
   "execution_count": 3,
   "id": "ab6a45f9-3065-48aa-8064-55b5aa48472b",
   "metadata": {},
   "outputs": [],
   "source": [
    "datafile = \"\"\n",
    "\n",
    "if timestep == 1:  # horario\n",
    "    datafile = data_path + fileHr\n",
    "    n_steps_in, n_steps_out = 24, 24\n",
    "elif timestep == 2:  # diario\n",
    "    datafile = data_path + fileDaily\n",
    "    n_steps_in, n_steps_out = 7, 7\n",
    "op=operaciones()"
   ]
  },
  {
   "cell_type": "code",
   "execution_count": 4,
   "id": "8547abbb-1bdb-4b66-a00b-6d56efdfa681",
   "metadata": {},
   "outputs": [],
   "source": [
    "raw_seq = op.dataFile2rawSeq(datafile)"
   ]
  },
  {
   "cell_type": "code",
   "execution_count": 5,
   "id": "ffd17100-032b-46bd-bfa4-b95b5c6ad2b1",
   "metadata": {},
   "outputs": [
    {
     "data": {
      "application/vnd.jupyter.widget-view+json": {
       "model_id": "5b46f93d7d814ebaa0e29221a7bc09a7",
       "version_major": 2,
       "version_minor": 0
      },
      "text/plain": [
       "VBox(children=(Figure(axes=[Axis(label='tiempo de registro', scale=LinearScale()), Axis(label='Velocidad de vi…"
      ]
     },
     "metadata": {},
     "output_type": "display_data"
    }
   ],
   "source": [
    "# print(n_steps_in, n_steps_out)\n",
    "# print('archivo de datos:'+datafile)\n",
    "type(raw_seq)\n",
    "#print(raw_seq)\n",
    "op.grafica_serie(raw_seq,etiquetaEjeY)"
   ]
  },
  {
   "cell_type": "code",
   "execution_count": 6,
   "id": "80797875-7e5d-4989-8d37-6c0425171d36",
   "metadata": {},
   "outputs": [],
   "source": [
    "#formatea serie\n",
    "X, y = op.formatea_serie(raw_seq, n_steps_in, n_steps_out)\n",
    "#print(X,y)"
   ]
  },
  {
   "cell_type": "code",
   "execution_count": 7,
   "id": "306ca4ca-4827-4145-8de0-bdf235fa64c9",
   "metadata": {},
   "outputs": [
    {
     "name": "stderr",
     "output_type": "stream",
     "text": [
      "2023-03-08 14:02:59.669516: I tensorflow/core/platform/cpu_feature_guard.cc:193] This TensorFlow binary is optimized with oneAPI Deep Neural Network Library (oneDNN) to use the following CPU instructions in performance-critical operations:  SSE4.1 SSE4.2 AVX AVX2 FMA\n",
      "To enable them in other operations, rebuild TensorFlow with the appropriate compiler flags.\n"
     ]
    }
   ],
   "source": [
    "# separacion de ejemplos en subconjuntos de entrenamiento y prueba\n",
    "X_train, X_test, y_train, y_test=op.separa_ejemplos(X, y, num_test)\n",
    "# generacion y archivado del modelo\n",
    "# modelo = op.genera_modelo(n_steps_in, n_steps_out, n_features, X_train, y_train)\n",
    "#op.guardar_modelo(modelo, data_path+'/modelos')\n",
    "#op.ver_modelo(modelo, data_path+modelFilename1)\n",
    "\n",
    "modelo = op.recupera_modelo(data_path+'/modelos/viento_horario20-22')\n",
    "# modelo = op.recupera_modelo(data_path+'/modelos/viento_diario20-22/2')"
   ]
  },
  {
   "cell_type": "code",
   "execution_count": 8,
   "id": "96019fa0-97a2-4316-ac10-ec6a1f549679",
   "metadata": {},
   "outputs": [
    {
     "name": "stdout",
     "output_type": "stream",
     "text": [
      "secuencia de entrada: [6.778 6.333 5.689 3.544 1.911 1.6   2.5   2.703 1.843 1.105 2.022 1.017\n",
      " 2.367 2.477 4.667 5.128 4.5   3.655 3.028 2.617 3.861 5.161 4.678 3.6  ]\n",
      "secuencia de salida (predicha): [[4.1743636 4.63404   4.5776052 4.329044  4.2173142 4.476075  4.9905715\n",
      "  5.28228   5.077321  4.542052  3.8743281 3.3718863 3.243484  3.5483854\n",
      "  3.9213493 4.1773777 4.403331  4.4637346 4.7409587 5.4744563 6.289571\n",
      "  7.011535  7.3671947 7.522615 ]]\n",
      "secuencia de salida (real): [2.267 1.272 1.522 2.472 2.027 2.445 1.711 1.994 2.7   2.872 2.544 2.6\n",
      " 2.989 3.444 3.528 3.472 3.417 4.361 6.616 9.278 7.889 7.084 7.278 7.633]\n"
     ]
    },
    {
     "data": {
      "application/vnd.jupyter.widget-view+json": {
       "model_id": "38f08c8ac7f440528a72ab953f30be54",
       "version_major": 2,
       "version_minor": 0
      },
      "text/plain": [
       "VBox(children=(Figure(axes=[Axis(scale=LinearScale()), Axis(orientation='vertical', scale=LinearScale())], fig…"
      ]
     },
     "metadata": {},
     "output_type": "display_data"
    },
    {
     "name": "stdout",
     "output_type": "stream",
     "text": [
      "[[ 7.75545502  7.45684242  7.38928699 ...  7.63767862  7.95738697\n",
      "   8.2538414 ]\n",
      " [12.7224617  12.85956764 13.03014946 ...  7.54744339  7.62634325\n",
      "   7.62975931]\n",
      " [ 3.34750128  6.81799364 10.12443924 ... 16.51746941 14.84489441\n",
      "  13.00750065]\n",
      " ...\n",
      " [12.21933746 10.94331932  9.79436588 ...  5.41663027  4.59853554\n",
      "   4.36528635]\n",
      " [ 8.30178261  7.10188055  6.40002155 ...  6.1871891   6.79534483\n",
      "   7.53273916]\n",
      " [12.53394508 12.38217354 12.07468128 ... 20.27011681 20.42969894\n",
      "  20.28762817]]\n",
      "MAPE tiempo t+1: 18.7%\n"
     ]
    },
    {
     "data": {
      "application/vnd.jupyter.widget-view+json": {
       "model_id": "b75d24dc5300494ab2a10a834510a57c",
       "version_major": 2,
       "version_minor": 0
      },
      "text/plain": [
       "VBox(children=(Figure(axes=[Axis(label='tiempo de registro', scale=LinearScale()), Axis(label='Velocidad de vi…"
      ]
     },
     "metadata": {},
     "output_type": "display_data"
    },
    {
     "name": "stdout",
     "output_type": "stream",
     "text": [
      "MAPE tiempo t+2: 23.8%\n"
     ]
    },
    {
     "data": {
      "application/vnd.jupyter.widget-view+json": {
       "model_id": "709f211d969d495087a99ed398b9cf9c",
       "version_major": 2,
       "version_minor": 0
      },
      "text/plain": [
       "VBox(children=(Figure(axes=[Axis(label='tiempo de registro', scale=LinearScale()), Axis(label='Velocidad de vi…"
      ]
     },
     "metadata": {},
     "output_type": "display_data"
    },
    {
     "name": "stdout",
     "output_type": "stream",
     "text": [
      "MAPE tiempo t+3: 24.7%\n"
     ]
    },
    {
     "data": {
      "application/vnd.jupyter.widget-view+json": {
       "model_id": "d5239734c62a4d73900acb6db9b758fd",
       "version_major": 2,
       "version_minor": 0
      },
      "text/plain": [
       "VBox(children=(Figure(axes=[Axis(label='tiempo de registro', scale=LinearScale()), Axis(label='Velocidad de vi…"
      ]
     },
     "metadata": {},
     "output_type": "display_data"
    },
    {
     "name": "stdout",
     "output_type": "stream",
     "text": [
      "MAPE tiempo t+4: 27.3%\n"
     ]
    },
    {
     "data": {
      "application/vnd.jupyter.widget-view+json": {
       "model_id": "db7039a86e4b4dfc87abdc3687de2a83",
       "version_major": 2,
       "version_minor": 0
      },
      "text/plain": [
       "VBox(children=(Figure(axes=[Axis(label='tiempo de registro', scale=LinearScale()), Axis(label='Velocidad de vi…"
      ]
     },
     "metadata": {},
     "output_type": "display_data"
    },
    {
     "name": "stdout",
     "output_type": "stream",
     "text": [
      "MAPE tiempo t+5: 26.8%\n"
     ]
    },
    {
     "data": {
      "application/vnd.jupyter.widget-view+json": {
       "model_id": "d495300a4b664ab59a9f578fc3ac3067",
       "version_major": 2,
       "version_minor": 0
      },
      "text/plain": [
       "VBox(children=(Figure(axes=[Axis(label='tiempo de registro', scale=LinearScale()), Axis(label='Velocidad de vi…"
      ]
     },
     "metadata": {},
     "output_type": "display_data"
    },
    {
     "name": "stdout",
     "output_type": "stream",
     "text": [
      "MAPE tiempo t+6: 29.3%\n"
     ]
    },
    {
     "data": {
      "application/vnd.jupyter.widget-view+json": {
       "model_id": "3d46c286873341bfbd955fdf6d5ec9bd",
       "version_major": 2,
       "version_minor": 0
      },
      "text/plain": [
       "VBox(children=(Figure(axes=[Axis(label='tiempo de registro', scale=LinearScale()), Axis(label='Velocidad de vi…"
      ]
     },
     "metadata": {},
     "output_type": "display_data"
    },
    {
     "name": "stdout",
     "output_type": "stream",
     "text": [
      "MAPE tiempo t+7: 29.0%\n"
     ]
    },
    {
     "data": {
      "application/vnd.jupyter.widget-view+json": {
       "model_id": "d8a020fb15b242908d16f5fa9d562afd",
       "version_major": 2,
       "version_minor": 0
      },
      "text/plain": [
       "VBox(children=(Figure(axes=[Axis(label='tiempo de registro', scale=LinearScale()), Axis(label='Velocidad de vi…"
      ]
     },
     "metadata": {},
     "output_type": "display_data"
    },
    {
     "name": "stdout",
     "output_type": "stream",
     "text": [
      "MAPE tiempo t+8: 30.0%\n"
     ]
    },
    {
     "data": {
      "application/vnd.jupyter.widget-view+json": {
       "model_id": "762ff2a0709b45b89b83f2f5ce2730d7",
       "version_major": 2,
       "version_minor": 0
      },
      "text/plain": [
       "VBox(children=(Figure(axes=[Axis(label='tiempo de registro', scale=LinearScale()), Axis(label='Velocidad de vi…"
      ]
     },
     "metadata": {},
     "output_type": "display_data"
    },
    {
     "name": "stdout",
     "output_type": "stream",
     "text": [
      "MAPE tiempo t+9: 30.7%\n"
     ]
    },
    {
     "data": {
      "application/vnd.jupyter.widget-view+json": {
       "model_id": "5788ede1bd7d4c74b4ccde0f842c6961",
       "version_major": 2,
       "version_minor": 0
      },
      "text/plain": [
       "VBox(children=(Figure(axes=[Axis(label='tiempo de registro', scale=LinearScale()), Axis(label='Velocidad de vi…"
      ]
     },
     "metadata": {},
     "output_type": "display_data"
    },
    {
     "name": "stdout",
     "output_type": "stream",
     "text": [
      "MAPE tiempo t+10: 31.1%\n"
     ]
    },
    {
     "data": {
      "application/vnd.jupyter.widget-view+json": {
       "model_id": "680c2e1fd1574e5c8fed0c31f4e55582",
       "version_major": 2,
       "version_minor": 0
      },
      "text/plain": [
       "VBox(children=(Figure(axes=[Axis(label='tiempo de registro', scale=LinearScale()), Axis(label='Velocidad de vi…"
      ]
     },
     "metadata": {},
     "output_type": "display_data"
    },
    {
     "name": "stdout",
     "output_type": "stream",
     "text": [
      "MAPE tiempo t+11: 32.2%\n"
     ]
    },
    {
     "data": {
      "application/vnd.jupyter.widget-view+json": {
       "model_id": "97bc2628656c48148b467e500df9fcfb",
       "version_major": 2,
       "version_minor": 0
      },
      "text/plain": [
       "VBox(children=(Figure(axes=[Axis(label='tiempo de registro', scale=LinearScale()), Axis(label='Velocidad de vi…"
      ]
     },
     "metadata": {},
     "output_type": "display_data"
    },
    {
     "name": "stdout",
     "output_type": "stream",
     "text": [
      "MAPE tiempo t+12: 32.2%\n"
     ]
    },
    {
     "data": {
      "application/vnd.jupyter.widget-view+json": {
       "model_id": "332f63f1607649ce984cdc101c13aa10",
       "version_major": 2,
       "version_minor": 0
      },
      "text/plain": [
       "VBox(children=(Figure(axes=[Axis(label='tiempo de registro', scale=LinearScale()), Axis(label='Velocidad de vi…"
      ]
     },
     "metadata": {},
     "output_type": "display_data"
    },
    {
     "name": "stdout",
     "output_type": "stream",
     "text": [
      "MAPE tiempo t+13: 33.6%\n"
     ]
    },
    {
     "data": {
      "application/vnd.jupyter.widget-view+json": {
       "model_id": "7c6d9045294f45c0a9d14f55cefbb58a",
       "version_major": 2,
       "version_minor": 0
      },
      "text/plain": [
       "VBox(children=(Figure(axes=[Axis(label='tiempo de registro', scale=LinearScale()), Axis(label='Velocidad de vi…"
      ]
     },
     "metadata": {},
     "output_type": "display_data"
    },
    {
     "name": "stdout",
     "output_type": "stream",
     "text": [
      "MAPE tiempo t+14: 34.0%\n"
     ]
    },
    {
     "data": {
      "application/vnd.jupyter.widget-view+json": {
       "model_id": "3851efca78b549cc93c6eba753056bcd",
       "version_major": 2,
       "version_minor": 0
      },
      "text/plain": [
       "VBox(children=(Figure(axes=[Axis(label='tiempo de registro', scale=LinearScale()), Axis(label='Velocidad de vi…"
      ]
     },
     "metadata": {},
     "output_type": "display_data"
    },
    {
     "name": "stdout",
     "output_type": "stream",
     "text": [
      "MAPE tiempo t+15: 33.5%\n"
     ]
    },
    {
     "data": {
      "application/vnd.jupyter.widget-view+json": {
       "model_id": "7a036d98609246fda76c583fd2aa599c",
       "version_major": 2,
       "version_minor": 0
      },
      "text/plain": [
       "VBox(children=(Figure(axes=[Axis(label='tiempo de registro', scale=LinearScale()), Axis(label='Velocidad de vi…"
      ]
     },
     "metadata": {},
     "output_type": "display_data"
    },
    {
     "name": "stdout",
     "output_type": "stream",
     "text": [
      "MAPE tiempo t+16: 30.6%\n"
     ]
    },
    {
     "data": {
      "application/vnd.jupyter.widget-view+json": {
       "model_id": "81e5b9d8a0d74e56af593b1116d4008c",
       "version_major": 2,
       "version_minor": 0
      },
      "text/plain": [
       "VBox(children=(Figure(axes=[Axis(label='tiempo de registro', scale=LinearScale()), Axis(label='Velocidad de vi…"
      ]
     },
     "metadata": {},
     "output_type": "display_data"
    },
    {
     "name": "stdout",
     "output_type": "stream",
     "text": [
      "MAPE tiempo t+17: 30.6%\n"
     ]
    },
    {
     "data": {
      "application/vnd.jupyter.widget-view+json": {
       "model_id": "fc1e9b125e664ecfb9aaf58c3ce3a6cc",
       "version_major": 2,
       "version_minor": 0
      },
      "text/plain": [
       "VBox(children=(Figure(axes=[Axis(label='tiempo de registro', scale=LinearScale()), Axis(label='Velocidad de vi…"
      ]
     },
     "metadata": {},
     "output_type": "display_data"
    },
    {
     "name": "stdout",
     "output_type": "stream",
     "text": [
      "MAPE tiempo t+18: 32.9%\n"
     ]
    },
    {
     "data": {
      "application/vnd.jupyter.widget-view+json": {
       "model_id": "988e065da6454028a6a03c9900ad1403",
       "version_major": 2,
       "version_minor": 0
      },
      "text/plain": [
       "VBox(children=(Figure(axes=[Axis(label='tiempo de registro', scale=LinearScale()), Axis(label='Velocidad de vi…"
      ]
     },
     "metadata": {},
     "output_type": "display_data"
    },
    {
     "name": "stdout",
     "output_type": "stream",
     "text": [
      "MAPE tiempo t+19: 33.6%\n"
     ]
    },
    {
     "data": {
      "application/vnd.jupyter.widget-view+json": {
       "model_id": "413d4aba96864a6197c7dec45e76731e",
       "version_major": 2,
       "version_minor": 0
      },
      "text/plain": [
       "VBox(children=(Figure(axes=[Axis(label='tiempo de registro', scale=LinearScale()), Axis(label='Velocidad de vi…"
      ]
     },
     "metadata": {},
     "output_type": "display_data"
    },
    {
     "name": "stdout",
     "output_type": "stream",
     "text": [
      "MAPE tiempo t+20: 35.4%\n"
     ]
    },
    {
     "data": {
      "application/vnd.jupyter.widget-view+json": {
       "model_id": "78613b38001648d2adf03c245a8098f2",
       "version_major": 2,
       "version_minor": 0
      },
      "text/plain": [
       "VBox(children=(Figure(axes=[Axis(label='tiempo de registro', scale=LinearScale()), Axis(label='Velocidad de vi…"
      ]
     },
     "metadata": {},
     "output_type": "display_data"
    },
    {
     "name": "stdout",
     "output_type": "stream",
     "text": [
      "MAPE tiempo t+21: 35.4%\n"
     ]
    },
    {
     "data": {
      "application/vnd.jupyter.widget-view+json": {
       "model_id": "85544fd710464360b55f9d1b2280f9ac",
       "version_major": 2,
       "version_minor": 0
      },
      "text/plain": [
       "VBox(children=(Figure(axes=[Axis(label='tiempo de registro', scale=LinearScale()), Axis(label='Velocidad de vi…"
      ]
     },
     "metadata": {},
     "output_type": "display_data"
    },
    {
     "name": "stdout",
     "output_type": "stream",
     "text": [
      "MAPE tiempo t+22: 32.9%\n"
     ]
    },
    {
     "data": {
      "application/vnd.jupyter.widget-view+json": {
       "model_id": "62454f2ed6064c1195094c64f9fa3e17",
       "version_major": 2,
       "version_minor": 0
      },
      "text/plain": [
       "VBox(children=(Figure(axes=[Axis(label='tiempo de registro', scale=LinearScale()), Axis(label='Velocidad de vi…"
      ]
     },
     "metadata": {},
     "output_type": "display_data"
    },
    {
     "name": "stdout",
     "output_type": "stream",
     "text": [
      "MAPE tiempo t+23: 35.5%\n"
     ]
    },
    {
     "data": {
      "application/vnd.jupyter.widget-view+json": {
       "model_id": "29613fbd22e04a1cafd8df7dfd518a7c",
       "version_major": 2,
       "version_minor": 0
      },
      "text/plain": [
       "VBox(children=(Figure(axes=[Axis(label='tiempo de registro', scale=LinearScale()), Axis(label='Velocidad de vi…"
      ]
     },
     "metadata": {},
     "output_type": "display_data"
    },
    {
     "name": "stdout",
     "output_type": "stream",
     "text": [
      "MAPE tiempo t+24: 42.3%\n"
     ]
    },
    {
     "data": {
      "application/vnd.jupyter.widget-view+json": {
       "model_id": "91a1c9828dcd4d189d94124fd314d206",
       "version_major": 2,
       "version_minor": 0
      },
      "text/plain": [
       "VBox(children=(Figure(axes=[Axis(label='tiempo de registro', scale=LinearScale()), Axis(label='Velocidad de vi…"
      ]
     },
     "metadata": {},
     "output_type": "display_data"
    }
   ],
   "source": [
    "for _ in range(num):\n",
    "    op.demo_prediccion(X_test, y_test, n_steps_in, n_features, modelo, etiquetaEjeY)\n",
    "\n",
    "lista_tplusn = op.lista_predicciones_tplusn(X_test, n_steps_in, n_features, modelo)\n",
    "print(lista_tplusn)\n",
    "\n",
    "op.muestra_error(n_steps_out, lista_tplusn, y_test, etiquetaEjeY)\n"
   ]
  },
  {
   "cell_type": "code",
   "execution_count": null,
   "id": "1007714a-f6af-47e4-b755-6fb3e8f0459e",
   "metadata": {},
   "outputs": [],
   "source": []
  }
 ],
 "metadata": {
  "kernelspec": {
   "display_name": "Python 3 (ipykernel)",
   "language": "python",
   "name": "python3"
  },
  "language_info": {
   "codemirror_mode": {
    "name": "ipython",
    "version": 3
   },
   "file_extension": ".py",
   "mimetype": "text/x-python",
   "name": "python",
   "nbconvert_exporter": "python",
   "pygments_lexer": "ipython3",
   "version": "3.8.12"
  }
 },
 "nbformat": 4,
 "nbformat_minor": 5
}
