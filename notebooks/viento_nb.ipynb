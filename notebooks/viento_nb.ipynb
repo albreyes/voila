{
 "cells": [
  {
   "cell_type": "code",
   "execution_count": 1,
   "id": "f0d8cffd-6d6f-401c-bfd0-472f7a6828cf",
   "metadata": {},
   "outputs": [],
   "source": [
    "# This is a sample Python script.\n",
    "\n",
    "# Press ⌃R to execute it or replace it with your code.\n",
    "# Press Double ⇧ to search everywhere for classes, files, tool windows, actions, and settings.\n",
    "from operaciones import *\n",
    "\n",
    "#op.ejemplo()\n",
    "\n",
    "# Parametros generales\n",
    "data_path = '/Users/pibar/Library/CloudStorage/GoogleDrive-albertoreyesballesteros@gmail.com/Mi unidad/INEEL/AES'\n",
    "# fileHr = '/datos/VelVientoSept2020-Sept2022_hr.csv'\n",
    "fileHr = '/datos/datos-20-21-prom-windowgrapher-hr.csv'\n",
    "# fileDaily = '/datos/VelVientoSept2020-Sept2022_diario.csv'\n",
    "# fileDaily = '/datos/viento20-22-diarios-validados.csv'\n",
    "fileDaily = '/datos/datos-20-21-prom-windowgrapher-diarios.csv'"
   ]
  },
  {
   "cell_type": "code",
   "execution_count": 2,
   "id": "86bcc0c2-2968-43a9-85f0-d12b41d65f5d",
   "metadata": {},
   "outputs": [],
   "source": [
    "modelFilename1 = '/modelos/modelStructure.png'\n",
    "etiquetaEjeY = 'Velocidad de viento m/s'\n",
    "timestep = 1 # 0-diezminutal 1-horario 2-diario\n",
    "n_features = 1\n",
    "num_test = .2  # aquí se está especificando 20% para test\n",
    "num = 1 # no de casos de prediccion"
   ]
  },
  {
   "cell_type": "code",
   "execution_count": 3,
   "id": "ab6a45f9-3065-48aa-8064-55b5aa48472b",
   "metadata": {},
   "outputs": [],
   "source": [
    "datafile = \"\"\n",
    "\n",
    "if timestep == 1:  # horario\n",
    "    datafile = data_path + fileHr\n",
    "    n_steps_in, n_steps_out = 24, 24\n",
    "elif timestep == 2:  # diario\n",
    "    datafile = data_path + fileDaily\n",
    "    n_steps_in, n_steps_out = 7, 7\n",
    "op=operaciones()"
   ]
  },
  {
   "cell_type": "code",
   "execution_count": 4,
   "id": "8547abbb-1bdb-4b66-a00b-6d56efdfa681",
   "metadata": {},
   "outputs": [],
   "source": [
    "raw_seq = op.dataFile2rawSeq(datafile)"
   ]
  },
  {
   "cell_type": "code",
   "execution_count": 5,
   "id": "ffd17100-032b-46bd-bfa4-b95b5c6ad2b1",
   "metadata": {},
   "outputs": [
    {
     "data": {
      "application/vnd.jupyter.widget-view+json": {
       "model_id": "d5911a6df4f54b94aed4e6cdced907ff",
       "version_major": 2,
       "version_minor": 0
      },
      "text/plain": [
       "VBox(children=(Figure(axes=[Axis(label='tiempo de registro', scale=LinearScale()), Axis(label='Velocidad de vi…"
      ]
     },
     "metadata": {},
     "output_type": "display_data"
    }
   ],
   "source": [
    "# print(n_steps_in, n_steps_out)\n",
    "# print('archivo de datos:'+datafile)\n",
    "type(raw_seq)\n",
    "#print(raw_seq)\n",
    "op.grafica_serie(raw_seq,etiquetaEjeY)"
   ]
  },
  {
   "cell_type": "code",
   "execution_count": 6,
   "id": "80797875-7e5d-4989-8d37-6c0425171d36",
   "metadata": {},
   "outputs": [],
   "source": [
    "#formatea serie\n",
    "X, y = op.formatea_serie(raw_seq, n_steps_in, n_steps_out)\n",
    "#print(X,y)"
   ]
  },
  {
   "cell_type": "code",
   "execution_count": 7,
   "id": "306ca4ca-4827-4145-8de0-bdf235fa64c9",
   "metadata": {},
   "outputs": [
    {
     "name": "stderr",
     "output_type": "stream",
     "text": [
      "2023-03-07 18:20:32.247931: I tensorflow/core/platform/cpu_feature_guard.cc:193] This TensorFlow binary is optimized with oneAPI Deep Neural Network Library (oneDNN) to use the following CPU instructions in performance-critical operations:  SSE4.1 SSE4.2 AVX AVX2 FMA\n",
      "To enable them in other operations, rebuild TensorFlow with the appropriate compiler flags.\n"
     ]
    }
   ],
   "source": [
    "# separacion de ejemplos en subconjuntos de entrenamiento y prueba\n",
    "X_train, X_test, y_train, y_test=op.separa_ejemplos(X, y, num_test)\n",
    "# generacion y archivado del modelo\n",
    "# modelo = op.genera_modelo(n_steps_in, n_steps_out, n_features, X_train, y_train)\n",
    "#op.guardar_modelo(modelo, data_path+'/modelos')\n",
    "#op.ver_modelo(modelo, data_path+modelFilename1)\n",
    "\n",
    "modelo = op.recupera_modelo(data_path+'/modelos/viento_horario20-22')\n",
    "# modelo = op.recupera_modelo(data_path+'/modelos/viento_diario20-22/2')"
   ]
  },
  {
   "cell_type": "code",
   "execution_count": 8,
   "id": "96019fa0-97a2-4316-ac10-ec6a1f549679",
   "metadata": {},
   "outputs": [
    {
     "name": "stdout",
     "output_type": "stream",
     "text": [
      "secuencia de entrada: [4.711 4.128 3.872 3.25  2.417 3.011 3.1   2.867 3.661 3.434 3.722 4.005\n",
      " 3.283 2.011 1.417 3.161 5.683 6.411 6.895 6.433 6.933 7.194 6.705 6.111]\n",
      "secuencia de salida (predicha): [[ 6.7374773  6.815316   6.5332947  6.1967564  5.802864   5.4058685\n",
      "   5.3354406  5.5510125  5.9666204  6.7635202  7.7921557  8.887605\n",
      "   9.77496   10.228015  10.207957   9.977592   9.777173   9.503112\n",
      "   9.414467   9.601501   9.598514   9.22226    8.555399   8.19134  ]]\n",
      "secuencia de salida (real): [5.372 5.072 4.772 4.572 5.694 5.795 6.122 6.522 5.9   5.311 4.939 4.539\n",
      " 6.939 7.061 6.489 7.189 9.117 9.822 9.844 8.583 7.067 6.689 5.595 4.433]\n"
     ]
    },
    {
     "data": {
      "application/vnd.jupyter.widget-view+json": {
       "model_id": "d2c473b1738442feb07ee38ab9344142",
       "version_major": 2,
       "version_minor": 0
      },
      "text/plain": [
       "VBox(children=(Figure(axes=[Axis(scale=LinearScale()), Axis(orientation='vertical', scale=LinearScale())], fig…"
      ]
     },
     "metadata": {},
     "output_type": "display_data"
    },
    {
     "name": "stdout",
     "output_type": "stream",
     "text": [
      "[[ 6.11915493  6.17144632  6.01363087 ...  8.44069481  8.60220623\n",
      "   8.42670345]\n",
      " [ 5.70561934  6.50907135  7.24364758 ... 15.78037643 14.79234791\n",
      "  14.06415462]\n",
      " [ 4.84127331  5.76343918  6.06677055 ...  3.29803228  4.26176357\n",
      "   4.91724396]\n",
      " ...\n",
      " [ 8.34671783  8.29360008  8.23743343 ...  6.05273581  6.58607817\n",
      "   7.04984283]\n",
      " [ 6.09344673  5.6128397   4.97030163 ...  7.97705841  9.33832264\n",
      "  10.00305653]\n",
      " [11.33250046  9.80181599  7.78786755 ...  3.23925734  3.89112115\n",
      "   4.91502333]]\n",
      "MAPE tiempo t+1: 18.1%\n"
     ]
    },
    {
     "data": {
      "application/vnd.jupyter.widget-view+json": {
       "model_id": "849c3d310d0942459311fb197041e89f",
       "version_major": 2,
       "version_minor": 0
      },
      "text/plain": [
       "VBox(children=(Figure(axes=[Axis(label='tiempo de registro', scale=LinearScale()), Axis(label='Velocidad de vi…"
      ]
     },
     "metadata": {},
     "output_type": "display_data"
    },
    {
     "name": "stdout",
     "output_type": "stream",
     "text": [
      "MAPE tiempo t+2: 23.7%\n"
     ]
    },
    {
     "data": {
      "application/vnd.jupyter.widget-view+json": {
       "model_id": "2e868702cd024965b72c73db447e8b70",
       "version_major": 2,
       "version_minor": 0
      },
      "text/plain": [
       "VBox(children=(Figure(axes=[Axis(label='tiempo de registro', scale=LinearScale()), Axis(label='Velocidad de vi…"
      ]
     },
     "metadata": {},
     "output_type": "display_data"
    },
    {
     "name": "stdout",
     "output_type": "stream",
     "text": [
      "MAPE tiempo t+3: 31.6%\n"
     ]
    },
    {
     "data": {
      "application/vnd.jupyter.widget-view+json": {
       "model_id": "356c325fd88e4a46848ad450265eebb3",
       "version_major": 2,
       "version_minor": 0
      },
      "text/plain": [
       "VBox(children=(Figure(axes=[Axis(label='tiempo de registro', scale=LinearScale()), Axis(label='Velocidad de vi…"
      ]
     },
     "metadata": {},
     "output_type": "display_data"
    },
    {
     "name": "stdout",
     "output_type": "stream",
     "text": [
      "MAPE tiempo t+4: 26.3%\n"
     ]
    },
    {
     "data": {
      "application/vnd.jupyter.widget-view+json": {
       "model_id": "1c05b8f32af14b8da06c2e42ebb5c134",
       "version_major": 2,
       "version_minor": 0
      },
      "text/plain": [
       "VBox(children=(Figure(axes=[Axis(label='tiempo de registro', scale=LinearScale()), Axis(label='Velocidad de vi…"
      ]
     },
     "metadata": {},
     "output_type": "display_data"
    },
    {
     "name": "stdout",
     "output_type": "stream",
     "text": [
      "MAPE tiempo t+5: 26.3%\n"
     ]
    },
    {
     "data": {
      "application/vnd.jupyter.widget-view+json": {
       "model_id": "a532e99845a94ccfa07e91ba8764ea60",
       "version_major": 2,
       "version_minor": 0
      },
      "text/plain": [
       "VBox(children=(Figure(axes=[Axis(label='tiempo de registro', scale=LinearScale()), Axis(label='Velocidad de vi…"
      ]
     },
     "metadata": {},
     "output_type": "display_data"
    },
    {
     "name": "stdout",
     "output_type": "stream",
     "text": [
      "MAPE tiempo t+6: 27.6%\n"
     ]
    },
    {
     "data": {
      "application/vnd.jupyter.widget-view+json": {
       "model_id": "3cbc24a43e3543f7ae4efedc548043a2",
       "version_major": 2,
       "version_minor": 0
      },
      "text/plain": [
       "VBox(children=(Figure(axes=[Axis(label='tiempo de registro', scale=LinearScale()), Axis(label='Velocidad de vi…"
      ]
     },
     "metadata": {},
     "output_type": "display_data"
    },
    {
     "name": "stdout",
     "output_type": "stream",
     "text": [
      "MAPE tiempo t+7: 28.8%\n"
     ]
    },
    {
     "data": {
      "application/vnd.jupyter.widget-view+json": {
       "model_id": "2ca7f4bc34434e86864534a9a19727bc",
       "version_major": 2,
       "version_minor": 0
      },
      "text/plain": [
       "VBox(children=(Figure(axes=[Axis(label='tiempo de registro', scale=LinearScale()), Axis(label='Velocidad de vi…"
      ]
     },
     "metadata": {},
     "output_type": "display_data"
    },
    {
     "name": "stdout",
     "output_type": "stream",
     "text": [
      "MAPE tiempo t+8: 31.1%\n"
     ]
    },
    {
     "data": {
      "application/vnd.jupyter.widget-view+json": {
       "model_id": "302a8c6bb3294eeebcf27f9ef80ebe19",
       "version_major": 2,
       "version_minor": 0
      },
      "text/plain": [
       "VBox(children=(Figure(axes=[Axis(label='tiempo de registro', scale=LinearScale()), Axis(label='Velocidad de vi…"
      ]
     },
     "metadata": {},
     "output_type": "display_data"
    },
    {
     "name": "stdout",
     "output_type": "stream",
     "text": [
      "MAPE tiempo t+9: 31.3%\n"
     ]
    },
    {
     "data": {
      "application/vnd.jupyter.widget-view+json": {
       "model_id": "ec7bb045e558432a9947dfc8b7cabdde",
       "version_major": 2,
       "version_minor": 0
      },
      "text/plain": [
       "VBox(children=(Figure(axes=[Axis(label='tiempo de registro', scale=LinearScale()), Axis(label='Velocidad de vi…"
      ]
     },
     "metadata": {},
     "output_type": "display_data"
    },
    {
     "name": "stdout",
     "output_type": "stream",
     "text": [
      "MAPE tiempo t+10: 37.7%\n"
     ]
    },
    {
     "data": {
      "application/vnd.jupyter.widget-view+json": {
       "model_id": "8232b6b621ea4b5ab696ba71f97978c9",
       "version_major": 2,
       "version_minor": 0
      },
      "text/plain": [
       "VBox(children=(Figure(axes=[Axis(label='tiempo de registro', scale=LinearScale()), Axis(label='Velocidad de vi…"
      ]
     },
     "metadata": {},
     "output_type": "display_data"
    },
    {
     "name": "stdout",
     "output_type": "stream",
     "text": [
      "MAPE tiempo t+11: 29.7%\n"
     ]
    },
    {
     "data": {
      "application/vnd.jupyter.widget-view+json": {
       "model_id": "7f2e6f1998e940d79203412f7fc9109d",
       "version_major": 2,
       "version_minor": 0
      },
      "text/plain": [
       "VBox(children=(Figure(axes=[Axis(label='tiempo de registro', scale=LinearScale()), Axis(label='Velocidad de vi…"
      ]
     },
     "metadata": {},
     "output_type": "display_data"
    },
    {
     "name": "stdout",
     "output_type": "stream",
     "text": [
      "MAPE tiempo t+12: 30.7%\n"
     ]
    },
    {
     "data": {
      "application/vnd.jupyter.widget-view+json": {
       "model_id": "a9c8b2c162c64ef89b52c80cf5a64644",
       "version_major": 2,
       "version_minor": 0
      },
      "text/plain": [
       "VBox(children=(Figure(axes=[Axis(label='tiempo de registro', scale=LinearScale()), Axis(label='Velocidad de vi…"
      ]
     },
     "metadata": {},
     "output_type": "display_data"
    },
    {
     "name": "stdout",
     "output_type": "stream",
     "text": [
      "MAPE tiempo t+13: 31.6%\n"
     ]
    },
    {
     "data": {
      "application/vnd.jupyter.widget-view+json": {
       "model_id": "2284879d867f40afad0e2d3756c684da",
       "version_major": 2,
       "version_minor": 0
      },
      "text/plain": [
       "VBox(children=(Figure(axes=[Axis(label='tiempo de registro', scale=LinearScale()), Axis(label='Velocidad de vi…"
      ]
     },
     "metadata": {},
     "output_type": "display_data"
    },
    {
     "name": "stdout",
     "output_type": "stream",
     "text": [
      "MAPE tiempo t+14: 32.5%\n"
     ]
    },
    {
     "data": {
      "application/vnd.jupyter.widget-view+json": {
       "model_id": "447cf3183c6a488b966dd10f7ebd4c91",
       "version_major": 2,
       "version_minor": 0
      },
      "text/plain": [
       "VBox(children=(Figure(axes=[Axis(label='tiempo de registro', scale=LinearScale()), Axis(label='Velocidad de vi…"
      ]
     },
     "metadata": {},
     "output_type": "display_data"
    },
    {
     "name": "stdout",
     "output_type": "stream",
     "text": [
      "MAPE tiempo t+15: 31.6%\n"
     ]
    },
    {
     "data": {
      "application/vnd.jupyter.widget-view+json": {
       "model_id": "08aa372450ac4ed694015d9751e1cbfc",
       "version_major": 2,
       "version_minor": 0
      },
      "text/plain": [
       "VBox(children=(Figure(axes=[Axis(label='tiempo de registro', scale=LinearScale()), Axis(label='Velocidad de vi…"
      ]
     },
     "metadata": {},
     "output_type": "display_data"
    },
    {
     "name": "stdout",
     "output_type": "stream",
     "text": [
      "MAPE tiempo t+16: 30.6%\n"
     ]
    },
    {
     "data": {
      "application/vnd.jupyter.widget-view+json": {
       "model_id": "17a15a54ccf841b981d772f54833ac43",
       "version_major": 2,
       "version_minor": 0
      },
      "text/plain": [
       "VBox(children=(Figure(axes=[Axis(label='tiempo de registro', scale=LinearScale()), Axis(label='Velocidad de vi…"
      ]
     },
     "metadata": {},
     "output_type": "display_data"
    },
    {
     "name": "stdout",
     "output_type": "stream",
     "text": [
      "MAPE tiempo t+17: 30.4%\n"
     ]
    },
    {
     "data": {
      "application/vnd.jupyter.widget-view+json": {
       "model_id": "f5369b9675bd451fb493abb845b431f8",
       "version_major": 2,
       "version_minor": 0
      },
      "text/plain": [
       "VBox(children=(Figure(axes=[Axis(label='tiempo de registro', scale=LinearScale()), Axis(label='Velocidad de vi…"
      ]
     },
     "metadata": {},
     "output_type": "display_data"
    },
    {
     "name": "stdout",
     "output_type": "stream",
     "text": [
      "MAPE tiempo t+18: 34.3%\n"
     ]
    },
    {
     "data": {
      "application/vnd.jupyter.widget-view+json": {
       "model_id": "8e736bccb5ee4510a9b835696e38d8b8",
       "version_major": 2,
       "version_minor": 0
      },
      "text/plain": [
       "VBox(children=(Figure(axes=[Axis(label='tiempo de registro', scale=LinearScale()), Axis(label='Velocidad de vi…"
      ]
     },
     "metadata": {},
     "output_type": "display_data"
    },
    {
     "name": "stdout",
     "output_type": "stream",
     "text": [
      "MAPE tiempo t+19: 82.3%\n"
     ]
    },
    {
     "data": {
      "application/vnd.jupyter.widget-view+json": {
       "model_id": "bef6fbe3490447d38b9767ef8547231b",
       "version_major": 2,
       "version_minor": 0
      },
      "text/plain": [
       "VBox(children=(Figure(axes=[Axis(label='tiempo de registro', scale=LinearScale()), Axis(label='Velocidad de vi…"
      ]
     },
     "metadata": {},
     "output_type": "display_data"
    },
    {
     "name": "stdout",
     "output_type": "stream",
     "text": [
      "MAPE tiempo t+20: 35.8%\n"
     ]
    },
    {
     "data": {
      "application/vnd.jupyter.widget-view+json": {
       "model_id": "b0a82d3cfd0d4ff994a8b1bdfa541cfa",
       "version_major": 2,
       "version_minor": 0
      },
      "text/plain": [
       "VBox(children=(Figure(axes=[Axis(label='tiempo de registro', scale=LinearScale()), Axis(label='Velocidad de vi…"
      ]
     },
     "metadata": {},
     "output_type": "display_data"
    },
    {
     "name": "stdout",
     "output_type": "stream",
     "text": [
      "MAPE tiempo t+21: 33.2%\n"
     ]
    },
    {
     "data": {
      "application/vnd.jupyter.widget-view+json": {
       "model_id": "f77c370e6d3242d6ad7a0e6bfb523e2b",
       "version_major": 2,
       "version_minor": 0
      },
      "text/plain": [
       "VBox(children=(Figure(axes=[Axis(label='tiempo de registro', scale=LinearScale()), Axis(label='Velocidad de vi…"
      ]
     },
     "metadata": {},
     "output_type": "display_data"
    },
    {
     "name": "stdout",
     "output_type": "stream",
     "text": [
      "MAPE tiempo t+22: 32.6%\n"
     ]
    },
    {
     "data": {
      "application/vnd.jupyter.widget-view+json": {
       "model_id": "0b3d1ea394d7457d858f042424885da7",
       "version_major": 2,
       "version_minor": 0
      },
      "text/plain": [
       "VBox(children=(Figure(axes=[Axis(label='tiempo de registro', scale=LinearScale()), Axis(label='Velocidad de vi…"
      ]
     },
     "metadata": {},
     "output_type": "display_data"
    },
    {
     "name": "stdout",
     "output_type": "stream",
     "text": [
      "MAPE tiempo t+23: 36.0%\n"
     ]
    },
    {
     "data": {
      "application/vnd.jupyter.widget-view+json": {
       "model_id": "7386ad2896094d8a84b2448002c67437",
       "version_major": 2,
       "version_minor": 0
      },
      "text/plain": [
       "VBox(children=(Figure(axes=[Axis(label='tiempo de registro', scale=LinearScale()), Axis(label='Velocidad de vi…"
      ]
     },
     "metadata": {},
     "output_type": "display_data"
    },
    {
     "name": "stdout",
     "output_type": "stream",
     "text": [
      "MAPE tiempo t+24: 36.0%\n"
     ]
    },
    {
     "data": {
      "application/vnd.jupyter.widget-view+json": {
       "model_id": "6e31552c68e44f229cdb3204426a0827",
       "version_major": 2,
       "version_minor": 0
      },
      "text/plain": [
       "VBox(children=(Figure(axes=[Axis(label='tiempo de registro', scale=LinearScale()), Axis(label='Velocidad de vi…"
      ]
     },
     "metadata": {},
     "output_type": "display_data"
    }
   ],
   "source": [
    "for _ in range(num):\n",
    "    op.demo_prediccion(X_test, y_test, n_steps_in, n_features, modelo, etiquetaEjeY)\n",
    "\n",
    "lista_tplusn = op.lista_predicciones_tplusn(X_test, n_steps_in, n_features, modelo)\n",
    "print(lista_tplusn)\n",
    "\n",
    "op.muestra_error(n_steps_out, lista_tplusn, y_test, etiquetaEjeY)\n"
   ]
  },
  {
   "cell_type": "code",
   "execution_count": null,
   "id": "1007714a-f6af-47e4-b755-6fb3e8f0459e",
   "metadata": {},
   "outputs": [],
   "source": []
  }
 ],
 "metadata": {
  "kernelspec": {
   "display_name": "Python 3 (ipykernel)",
   "language": "python",
   "name": "python3"
  },
  "language_info": {
   "codemirror_mode": {
    "name": "ipython",
    "version": 3
   },
   "file_extension": ".py",
   "mimetype": "text/x-python",
   "name": "python",
   "nbconvert_exporter": "python",
   "pygments_lexer": "ipython3",
   "version": "3.8.12"
  }
 },
 "nbformat": 4,
 "nbformat_minor": 5
}
